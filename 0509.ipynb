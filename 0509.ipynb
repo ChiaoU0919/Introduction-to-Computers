{
  "nbformat": 4,
  "nbformat_minor": 0,
  "metadata": {
    "colab": {
      "name": "0509.ipynb",
      "provenance": [],
      "authorship_tag": "ABX9TyMT5w/ntitrPOBylCTLe8xa",
      "include_colab_link": true
    },
    "kernelspec": {
      "name": "python3",
      "display_name": "Python 3"
    },
    "language_info": {
      "name": "python"
    }
  },
  "cells": [
    {
      "cell_type": "markdown",
      "metadata": {
        "id": "view-in-github",
        "colab_type": "text"
      },
      "source": [
        "<a href=\"https://colab.research.google.com/github/ChiaoU0919/Introduction-to-Computers/blob/main/0509.ipynb\" target=\"_parent\"><img src=\"https://colab.research.google.com/assets/colab-badge.svg\" alt=\"Open In Colab\"/></a>"
      ]
    },
    {
      "cell_type": "code",
      "execution_count": null,
      "metadata": {
        "id": "JZVHvALH7jaX",
        "colab": {
          "base_uri": "https://localhost:8080/"
        },
        "outputId": "2545125d-e5a7-4372-fe38-6c5e4b45cb44"
      },
      "outputs": [
        {
          "output_type": "stream",
          "name": "stdout",
          "text": [
            "請輸入你的體溫36.8\n",
            "體溫正常!\n"
          ]
        }
      ],
      "source": [
        "temp=float(input(\"請輸入你的體溫\"))\n",
        "if temp>=37.5:\n",
        "  print(\"體溫過高!\")\n",
        "elif temp>=37 and temp<37.4:\n",
        "  print(\"體溫略高!\")\n",
        "elif temp>=34 and temp<=36.9:\n",
        "  print(\"體溫正常!\")\n",
        "else:\n",
        "  print(\"體溫異常，請重新量測\")"
      ]
    },
    {
      "cell_type": "code",
      "source": [
        "grades=int(input(\"請輸入成績\"))\n",
        "if grades>=90:\n",
        "  print(\"A\")\n",
        "elif grades>=80 and grades<=89:\n",
        "  print(\"B\")\n",
        "elif grades>=70 and grades<=79:\n",
        "  print(\"C\")\n",
        "elif grades>=60 and grades<=69:\n",
        "  print(\"D\")\n",
        "else:\n",
        "  print(\"E\")"
      ],
      "metadata": {
        "colab": {
          "base_uri": "https://localhost:8080/"
        },
        "id": "gd5VU2cu_ohE",
        "outputId": "f17c3c1e-0842-4d22-c185-64b6fa091be5"
      },
      "execution_count": null,
      "outputs": [
        {
          "output_type": "stream",
          "name": "stdout",
          "text": [
            "請輸入成績73\n",
            "C\n"
          ]
        }
      ]
    },
    {
      "cell_type": "code",
      "source": [
        "money=int(input(\"請輸入購物金額\"))\n",
        "if(money>=10000):\n",
        "  if(money>=100000):\n",
        "    print(\"八折\",money*0.8,end=\"元\\n\")\n",
        "  elif(money>=50000):\n",
        "    print(\"八五折\",money*0.85,end=\"元\\n\")\n",
        "  elif(money>=30000):\n",
        "    print(\"九折\",money*0.9,end=\"元\\n\")\n",
        "  else:\n",
        "    print(\"九五折\",money*0.95,end=\"元\\n\")\n",
        "else:\n",
        "  print(\"沒打折\",money,end=\"元\\n\")"
      ],
      "metadata": {
        "id": "QSldjgZQE4kJ",
        "colab": {
          "base_uri": "https://localhost:8080/"
        },
        "outputId": "543f2ebf-9931-41ff-8dd3-d2053617782f"
      },
      "execution_count": null,
      "outputs": [
        {
          "output_type": "stream",
          "name": "stdout",
          "text": [
            "請輸入購物金額9000\n",
            "沒打折 9000元\n"
          ]
        }
      ]
    },
    {
      "cell_type": "code",
      "source": [
        "season=int(input(\"請輸入月份\"))\n",
        "if(season>=3 and season<=5):\n",
        "  print(season,\"月\",\"是春天!\")\n",
        "elif(season>=6 and season<=8):\n",
        "  print(season,\"月\",\"是夏天!\")\n",
        "elif(season>=9 and season<=11):\n",
        "  print(season,\"月\",\"是秋天!\")\n",
        "elif(season==12 or season<=2 and season>=1):\n",
        "  print(season,\"月\",\"是冬天!\")\n",
        "else:\n",
        "  print(season,\"不在範圍內!\")"
      ],
      "metadata": {
        "id": "4LJcZwjoHydZ",
        "colab": {
          "base_uri": "https://localhost:8080/"
        },
        "outputId": "cb86ef48-640d-4397-f783-21d72324eb38"
      },
      "execution_count": 8,
      "outputs": [
        {
          "output_type": "stream",
          "name": "stdout",
          "text": [
            "請輸入月份8\n",
            "8 月 是夏天!\n"
          ]
        }
      ]
    }
  ]
}